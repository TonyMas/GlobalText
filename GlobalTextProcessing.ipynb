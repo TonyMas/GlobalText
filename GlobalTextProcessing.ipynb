{
 "cells": [
  {
   "cell_type": "markdown",
   "metadata": {
    "slideshow": {
     "slide_type": "slide"
    }
   },
   "source": [
    "# Text processing in global world"
   ]
  },
  {
   "cell_type": "markdown",
   "metadata": {
    "slideshow": {
     "slide_type": "slide"
    }
   },
   "source": [
    "Let's write a function that counts distinct words in a given sentence:\n",
    "1. Case-insensensetive comparison\n",
    "2. Ignore punctuation\n",
    "3. All numbers count as \"__number__\"\n",
    "4. All \"non-words\" count as \"__other__\""
   ]
  },
  {
   "cell_type": "markdown",
   "metadata": {
    "slideshow": {
     "slide_type": "fragment"
    }
   },
   "source": [
    "_All of the below code is for Python 3.6_"
   ]
  },
  {
   "cell_type": "code",
   "execution_count": 1,
   "metadata": {
    "collapsed": true,
    "slideshow": {
     "slide_type": "slide"
    }
   },
   "outputs": [],
   "source": [
    "from collections import Counter\n",
    "import re\n",
    "import string\n",
    "\n",
    "class WordCounterV1:\n",
    "    # Translation table to remove punctuation\n",
    "    punctuationTranslation = ''.maketrans('', '', string.punctuation)\n",
    "    \n",
    "    def CountWords( self, text ):\n",
    "        counter = Counter()\n",
    "        # Split text to words by spaces\n",
    "        for word in text.split(' '):\n",
    "            # Remove all punctuation\n",
    "            word = word.translate(WordCounterV1.punctuationTranslation)\n",
    "            if len(word) == 0:\n",
    "                # Skip empty words\n",
    "                continue\n",
    "            # Words that consist only of letters count as words\n",
    "            if re.match('^[a-zA-Z]+$', word):\n",
    "                # Using casefold to get more stable case-insensetive variant\n",
    "                counter[word.casefold()] += 1\n",
    "            # Words that consist only of digits count as __number__\n",
    "            elif re.match('^[0-9]+$', word):\n",
    "                counter['__number__'] += 1\n",
    "            # Everything else goes to __other__ bucket\n",
    "            else:\n",
    "                counter['__other__'] += 1\n",
    "        return counter"
   ]
  },
  {
   "cell_type": "markdown",
   "metadata": {
    "slideshow": {
     "slide_type": "slide"
    }
   },
   "source": [
    "Let's test it"
   ]
  },
  {
   "cell_type": "code",
   "execution_count": 2,
   "metadata": {
    "slideshow": {
     "slide_type": "fragment"
    }
   },
   "outputs": [
    {
     "data": {
      "text/plain": [
       "Counter({'hello': 1, 'world': 1})"
      ]
     },
     "execution_count": 2,
     "metadata": {},
     "output_type": "execute_result"
    }
   ],
   "source": [
    "wordCounter = WordCounterV1()\n",
    "wordCounter.CountWords( 'Hello, World!' )"
   ]
  },
  {
   "cell_type": "markdown",
   "metadata": {
    "slideshow": {
     "slide_type": "slide"
    }
   },
   "source": [
    "Let's test is some more"
   ]
  },
  {
   "cell_type": "code",
   "execution_count": 3,
   "metadata": {
    "slideshow": {
     "slide_type": "fragment"
    }
   },
   "outputs": [
    {
     "data": {
      "text/plain": [
       "Counter({'__number__': 2,\n",
       "         '__other__': 1,\n",
       "         'create': 1,\n",
       "         'fine': 1,\n",
       "         'for': 1,\n",
       "         'function': 1,\n",
       "         'i': 1,\n",
       "         'need': 1,\n",
       "         'no': 1,\n",
       "         'of': 1,\n",
       "         'our': 1,\n",
       "         'think': 1,\n",
       "         'to': 1,\n",
       "         'version': 2,\n",
       "         'will': 1,\n",
       "         'work': 1})"
      ]
     },
     "execution_count": 3,
     "metadata": {},
     "output_type": "execute_result"
    }
   ],
   "source": [
    "wordCounter.CountWords( 'I think version 1 of our function will work fine for i18n, no need to create version 2.' )"
   ]
  },
  {
   "cell_type": "markdown",
   "metadata": {
    "slideshow": {
     "slide_type": "slide"
    }
   },
   "source": [
    "And more"
   ]
  },
  {
   "cell_type": "code",
   "execution_count": 4,
   "metadata": {
    "slideshow": {
     "slide_type": "fragment"
    }
   },
   "outputs": [
    {
     "data": {
      "text/plain": [
       "Counter({'__other__': 1,\n",
       "         'but': 1,\n",
       "         'english': 1,\n",
       "         'even': 1,\n",
       "         'function': 1,\n",
       "         'in': 1,\n",
       "         'my': 1,\n",
       "         'not': 1,\n",
       "         'that': 1,\n",
       "         'thinks': 1,\n",
       "         'this': 1,\n",
       "         'will': 1,\n",
       "         'work': 1})"
      ]
     },
     "execution_count": 4,
     "metadata": {},
     "output_type": "execute_result"
    }
   ],
   "source": [
    "wordCounter.CountWords( 'But my fiancée thinks that this function will not work even in English' )"
   ]
  },
  {
   "cell_type": "markdown",
   "metadata": {
    "slideshow": {
     "slide_type": "slide"
    }
   },
   "source": [
    "Ok, we need to extend our letters set.<br>\n",
    "But we need to be truly international, so we need all possible diacritics.<br>\n",
    "And Cyrillic alphabet as well.<br>\n",
    "And all kind of Indian scripts.<br>\n",
    "And Thai language.<br>\n",
    "And maybe few more things …?"
   ]
  },
  {
   "cell_type": "markdown",
   "metadata": {
    "slideshow": {
     "slide_type": "slide"
    }
   },
   "source": [
    "## Unicode categories"
   ]
  },
  {
   "cell_type": "markdown",
   "metadata": {
    "slideshow": {
     "slide_type": "fragment"
    }
   },
   "source": [
    "[https://en.wikipedia.org/wiki/Unicode_character_property#General_Category](https://en.wikipedia.org/wiki/Unicode_character_property#General_Category)<br>\n",
    "The Unicode Standard assigns character properties to each code point. These properties can be used to handle \"characters\" (code points) in processes, like in line-breaking, script direction right-to-left or applying controls.<br>\n",
    "Each code point is assigned a value for General Category. This is one of the character properties that are also defined for unassigned code points, and code points that are defined \"not a character\"."
   ]
  },
  {
   "cell_type": "markdown",
   "metadata": {
    "slideshow": {
     "slide_type": "slide"
    }
   },
   "source": [
    "Letters: Lu, Ll, Lt, Lm, Lo<br>\n",
    "Marks: Mn, Mc, Me<br>\n",
    "Numbers: Nd, Nl, No<br>\n",
    "Punctuations: Pc, Pd, Ps, Pe, Pi, Pf, Po<br>\n",
    "Symbols: Sm, Sc, Sk, So<br>\n",
    "Separators: Zs, Zl, Zp<br>\n",
    "<br>\n",
    "Other, control: Cc<br>\n",
    "Other, format: Cf<br>\n",
    "Other, surrogate: Cs<br>\n",
    "Other, private use: Co<br>\n",
    "Other, not assigned: Cn"
   ]
  },
  {
   "cell_type": "code",
   "execution_count": 5,
   "metadata": {
    "slideshow": {
     "slide_type": "slide"
    }
   },
   "outputs": [
    {
     "data": {
      "text/plain": [
       "'Ll'"
      ]
     },
     "execution_count": 5,
     "metadata": {},
     "output_type": "execute_result"
    }
   ],
   "source": [
    "import unicodedata\n",
    "unicodedata.category('a')"
   ]
  },
  {
   "cell_type": "code",
   "execution_count": 6,
   "metadata": {
    "slideshow": {
     "slide_type": "fragment"
    }
   },
   "outputs": [
    {
     "data": {
      "text/plain": [
       "'Nd'"
      ]
     },
     "execution_count": 6,
     "metadata": {},
     "output_type": "execute_result"
    }
   ],
   "source": [
    "unicodedata.category('1')"
   ]
  },
  {
   "cell_type": "code",
   "execution_count": 7,
   "metadata": {
    "slideshow": {
     "slide_type": "fragment"
    }
   },
   "outputs": [
    {
     "data": {
      "text/plain": [
       "'Zs'"
      ]
     },
     "execution_count": 7,
     "metadata": {},
     "output_type": "execute_result"
    }
   ],
   "source": [
    "unicodedata.category(' ')"
   ]
  },
  {
   "cell_type": "markdown",
   "metadata": {
    "slideshow": {
     "slide_type": "slide"
    }
   },
   "source": [
    "Let's build unicode sets to work with"
   ]
  },
  {
   "cell_type": "code",
   "execution_count": 8,
   "metadata": {
    "collapsed": true,
    "slideshow": {
     "slide_type": "fragment"
    }
   },
   "outputs": [],
   "source": [
    "import unicodedata\n",
    "\n",
    "def calculateUnicodeSets():\n",
    "    punctuation = set()\n",
    "    letters = set()\n",
    "    numbers = set()\n",
    "    spaces = set()\n",
    "    control = set()\n",
    "    # We go through whole range of possible Unicode characters\n",
    "    for i in range(0,0x110000):\n",
    "        char = chr(i)\n",
    "        category = unicodedata.category( char )\n",
    "        # Punctuation is everything in P* category\n",
    "        if( category.startswith('P') ):\n",
    "            punctuation.add( char )\n",
    "        # For our goal both letters (L*) and mark signs (M*) will be considered as letters\n",
    "        elif( category.startswith('L') or category.startswith('M') ):\n",
    "            letters.add( char )\n",
    "        # Nd and Nl goes to numbers (No is not exactly digits)\n",
    "        elif( category == 'Nd' or category == 'Nl' ):\n",
    "            numbers.add( char )\n",
    "        # Z* goes to punctuation\n",
    "        elif( category.startswith('Z') ):\n",
    "            spaces.add( char )\n",
    "        # We will need control (Cc) and format (Cf) characters a little bit later\n",
    "        elif( category == 'Cc' or category == 'Cf' ):\n",
    "            control.add( char )\n",
    "    \n",
    "    # TAB, CR and LF are in Cc category, but we will treat them as spaces\n",
    "    spaces.add( '\\t' )\n",
    "    spaces.add( '\\r' )\n",
    "    spaces.add( '\\n' )\n",
    "    control.remove( '\\t' )\n",
    "    control.remove( '\\r' )\n",
    "    control.remove( '\\n' )\n",
    "    \n",
    "    return (punctuation, letters, numbers, spaces, control)"
   ]
  },
  {
   "cell_type": "code",
   "execution_count": 9,
   "metadata": {
    "collapsed": true,
    "slideshow": {
     "slide_type": "fragment"
    }
   },
   "outputs": [],
   "source": [
    "(punctuation, letters, numbers, spaces, control) = calculateUnicodeSets()"
   ]
  },
  {
   "cell_type": "markdown",
   "metadata": {
    "slideshow": {
     "slide_type": "slide"
    }
   },
   "source": [
    "Ok, we need universal letters set, but this function looks like overkill.<br>\n",
    "Why we need punctuation, we already have string.punctuation?"
   ]
  },
  {
   "cell_type": "code",
   "execution_count": 10,
   "metadata": {
    "slideshow": {
     "slide_type": "fragment"
    }
   },
   "outputs": [
    {
     "data": {
      "text/plain": [
       "'!\"#$%&\\'()*+,-./:;<=>?@[\\\\]^_`{|}~'"
      ]
     },
     "execution_count": 10,
     "metadata": {},
     "output_type": "execute_result"
    }
   ],
   "source": [
    "string.punctuation"
   ]
  },
  {
   "cell_type": "code",
   "execution_count": 11,
   "metadata": {
    "slideshow": {
     "slide_type": "fragment"
    }
   },
   "outputs": [
    {
     "data": {
      "text/plain": [
       "'!\"#%&\\'()*,-./:;?@[\\\\]_{}¡§«¶·»¿;·՚՛՜՝՞՟։֊־׀׃׆׳״؉؊،؍؛؞؟٪٫٬٭۔܀܁܂܃܄܅܆܇܈܉܊܋܌܍߷߸߹࠰࠱࠲࠳࠴࠵࠶࠷࠸࠹࠺࠻࠼࠽࠾࡞।॥॰૰෴๏๚๛༄༅༆༇༈༉༊་༌།༎༏༐༑༒༔༺༻༼༽྅࿐࿑࿒࿓࿔࿙࿚၊။၌၍၎၏჻፠፡።፣፤፥፦፧፨᐀᙭᙮᚛᚜᛫᛬᛭᜵᜶។៕៖៘៙៚᠀᠁᠂᠃᠄᠅᠆᠇᠈᠉᠊᥄᥅᨞᨟᪠᪡᪢᪣᪤᪥᪦᪨᪩᪪᪫᪬᪭᭚᭛᭜᭝᭞᭟᭠᯼᯽᯾᯿᰻᰼᰽᰾᰿᱾᱿᳀᳁᳂᳃᳄᳅᳆᳇᳓‐‑‒–—―‖‗‘’‚‛“”„‟†‡•‣․‥…‧‰‱′″‴‵‶‷‸‹›※‼‽‾‿⁀⁁⁂⁃⁅⁆⁇⁈⁉⁊⁋⁌⁍⁎⁏⁐⁑⁓⁔⁕⁖⁗⁘⁙⁚⁛⁜⁝⁞⁽⁾₍₎⌈⌉⌊⌋〈〉❨❩❪❫❬❭❮❯❰❱❲❳❴❵⟅⟆⟦⟧⟨⟩⟪⟫⟬⟭⟮⟯⦃⦄⦅⦆⦇⦈⦉⦊⦋⦌⦍⦎⦏⦐⦑⦒⦓⦔⦕⦖⦗⦘⧘⧙⧚⧛⧼⧽⳹⳺⳻⳼⳾⳿⵰⸀⸁⸂⸃⸄⸅⸆⸇⸈⸉⸊⸋⸌⸍⸎⸏⸐⸑⸒⸓⸔⸕⸖⸗⸘⸙⸚⸛⸜⸝⸞⸟⸠⸡⸢⸣⸤⸥⸦⸧⸨⸩⸪⸫⸬⸭⸮⸰⸱⸲⸳⸴⸵⸶⸷⸸⸹⸺⸻⸼⸽⸾⸿⹀⹁⹂⹃⹄、。〃〈〉《》「」『』【】〔〕〖〗〘〙〚〛〜〝〞〟〰〽゠・꓾꓿꘍꘎꘏꙳꙾꛲꛳꛴꛵꛶꛷꡴꡵꡶꡷꣎꣏꣸꣹꣺꣼꤮꤯꥟꧁꧂꧃꧄꧅꧆꧇꧈꧉꧊꧋꧌꧍꧞꧟꩜꩝꩞꩟꫞꫟꫰꫱꯫﴾﴿︐︑︒︓︔︕︖︗︘︙︰︱︲︳︴︵︶︷︸︹︺︻︼︽︾︿﹀﹁﹂﹃﹄﹅﹆﹇﹈﹉﹊﹋﹌﹍﹎﹏﹐﹑﹒﹔﹕﹖﹗﹘﹙﹚﹛﹜﹝﹞﹟﹠﹡﹣﹨﹪﹫！＂＃％＆＇（）＊，－．／：；？＠［＼］＿｛｝｟｠｡｢｣､･𐄀𐄁𐄂𐎟𐏐𐕯𐡗𐤟𐤿𐩐𐩑𐩒𐩓𐩔𐩕𐩖𐩗𐩘𐩿𐫰𐫱𐫲𐫳𐫴𐫵𐫶𐬹𐬺𐬻𐬼𐬽𐬾𐬿𐮙𐮚𐮛𐮜𑁇𑁈𑁉𑁊𑁋𑁌𑁍𑂻𑂼𑂾𑂿𑃀𑃁𑅀𑅁𑅂𑅃𑅴𑅵𑇅𑇆𑇇𑇈𑇉𑇍𑇛𑇝𑇞𑇟𑈸𑈹𑈺𑈻𑈼𑈽𑊩𑑋𑑌𑑍𑑎𑑏𑑛𑑝𑓆𑗁𑗂𑗃𑗄𑗅𑗆𑗇𑗈𑗉𑗊𑗋𑗌𑗍𑗎𑗏𑗐𑗑𑗒𑗓𑗔𑗕𑗖𑗗𑙁𑙂𑙃𑙠𑙡𑙢𑙣𑙤𑙥𑙦𑙧𑙨𑙩𑙪𑙫𑙬𑜼𑜽𑜾𑱁𑱂𑱃𑱄𑱅𑱰𑱱𒑰𒑱𒑲𒑳𒑴𖩮𖩯𖫵𖬷𖬸𖬹𖬺𖬻𖭄𛲟𝪇𝪈𝪉𝪊𝪋𞥞𞥟'"
      ]
     },
     "execution_count": 11,
     "metadata": {},
     "output_type": "execute_result"
    }
   ],
   "source": [
    "''.join(sorted(punctuation))"
   ]
  },
  {
   "cell_type": "markdown",
   "metadata": {
    "slideshow": {
     "slide_type": "slide"
    }
   },
   "source": [
    "But what about numbers, there are only 10 of them?<br>\n",
    "You may treat different Number categories (Nd, Nl, No) differently, depending on your application."
   ]
  },
  {
   "cell_type": "code",
   "execution_count": 13,
   "metadata": {
    "slideshow": {
     "slide_type": "fragment"
    }
   },
   "outputs": [
    {
     "data": {
      "text/plain": [
       "'0123456789٠١٢٣٤٥٦٧٨٩۰۱۲۳۴۵۶۷۸۹߀߁߂߃߄߅߆߇߈߉०१२३४५६७८९০১২৩৪৫৬৭৮৯੦੧੨੩੪੫੬੭੮੯૦૧૨૩૪૫૬૭૮૯୦୧୨୩୪୫୬୭୮୯௦௧௨௩௪௫௬௭௮௯౦౧౨౩౪౫౬౭౮౯೦೧೨೩೪೫೬೭೮೯൦൧൨൩൪൫൬൭൮൯෦෧෨෩෪෫෬෭෮෯๐๑๒๓๔๕๖๗๘๙໐໑໒໓໔໕໖໗໘໙༠༡༢༣༤༥༦༧༨༩၀၁၂၃၄၅၆၇၈၉႐႑႒႓႔႕႖႗႘႙ᛮᛯᛰ០១២៣៤៥៦៧៨៩᠐᠑᠒᠓᠔᠕᠖᠗᠘᠙᥆᥇᥈᥉᥊᥋᥌᥍᥎᥏᧐᧑᧒᧓᧔᧕᧖᧗᧘᧙᪀᪁᪂᪃᪄᪅᪆᪇᪈᪉᪐᪑᪒᪓᪔᪕᪖᪗᪘᪙᭐᭑᭒᭓᭔᭕᭖᭗᭘᭙᮰᮱᮲᮳᮴᮵᮶᮷᮸᮹᱀᱁᱂᱃᱄᱅᱆᱇᱈᱉᱐᱑᱒᱓᱔᱕᱖᱗᱘᱙ⅠⅡⅢⅣⅤⅥⅦⅧⅨⅩⅪⅫⅬⅭⅮⅯⅰⅱⅲⅳⅴⅵⅶⅷⅸⅹⅺⅻⅼⅽⅾⅿↀↁↂↅↆↇↈ〇〡〢〣〤〥〦〧〨〩〸〹〺꘠꘡꘢꘣꘤꘥꘦꘧꘨꘩ꛦꛧꛨꛩꛪꛫꛬꛭꛮꛯ꣐꣑꣒꣓꣔꣕꣖꣗꣘꣙꤀꤁꤂꤃꤄꤅꤆꤇꤈꤉꧐꧑꧒꧓꧔꧕꧖꧗꧘꧙꧰꧱꧲꧳꧴꧵꧶꧷꧸꧹꩐꩑꩒꩓꩔꩕꩖꩗꩘꩙꯰꯱꯲꯳꯴꯵꯶꯷꯸꯹０１２３４５６７８９𐅀𐅁𐅂𐅃𐅄𐅅𐅆𐅇𐅈𐅉𐅊𐅋𐅌𐅍𐅎𐅏𐅐𐅑𐅒𐅓𐅔𐅕𐅖𐅗𐅘𐅙𐅚𐅛𐅜𐅝𐅞𐅟𐅠𐅡𐅢𐅣𐅤𐅥𐅦𐅧𐅨𐅩𐅪𐅫𐅬𐅭𐅮𐅯𐅰𐅱𐅲𐅳𐅴𐍁𐍊𐏑𐏒𐏓𐏔𐏕𐒠𐒡𐒢𐒣𐒤𐒥𐒦𐒧𐒨𐒩𑁦𑁧𑁨𑁩𑁪𑁫𑁬𑁭𑁮𑁯𑃰𑃱𑃲𑃳𑃴𑃵𑃶𑃷𑃸𑃹𑄶𑄷𑄸𑄹𑄺𑄻𑄼𑄽𑄾𑄿𑇐𑇑𑇒𑇓𑇔𑇕𑇖𑇗𑇘𑇙𑋰𑋱𑋲𑋳𑋴𑋵𑋶𑋷𑋸𑋹𑑐𑑑𑑒𑑓𑑔𑑕𑑖𑑗𑑘𑑙𑓐𑓑𑓒𑓓𑓔𑓕𑓖𑓗𑓘𑓙𑙐𑙑𑙒𑙓𑙔𑙕𑙖𑙗𑙘𑙙𑛀𑛁𑛂𑛃𑛄𑛅𑛆𑛇𑛈𑛉𑜰𑜱𑜲𑜳𑜴𑜵𑜶𑜷𑜸𑜹𑣠𑣡𑣢𑣣𑣤𑣥𑣦𑣧𑣨𑣩𑱐𑱑𑱒𑱓𑱔𑱕𑱖𑱗𑱘𑱙𒐀𒐁𒐂𒐃𒐄𒐅𒐆𒐇𒐈𒐉𒐊𒐋𒐌𒐍𒐎𒐏𒐐𒐑𒐒𒐓𒐔𒐕𒐖𒐗𒐘𒐙𒐚𒐛𒐜𒐝𒐞𒐟𒐠𒐡𒐢𒐣𒐤𒐥𒐦𒐧𒐨𒐩𒐪𒐫𒐬𒐭𒐮𒐯𒐰𒐱𒐲𒐳𒐴𒐵𒐶𒐷𒐸𒐹𒐺𒐻𒐼𒐽𒐾𒐿𒑀𒑁𒑂𒑃𒑄𒑅𒑆𒑇𒑈𒑉𒑊𒑋𒑌𒑍𒑎𒑏𒑐𒑑𒑒𒑓𒑔𒑕𒑖𒑗𒑘𒑙𒑚𒑛𒑜𒑝𒑞𒑟𒑠𒑡𒑢𒑣𒑤𒑥𒑦𒑧𒑨𒑩𒑪𒑫𒑬𒑭𒑮𖩠𖩡𖩢𖩣𖩤𖩥𖩦𖩧𖩨𖩩𖭐𖭑𖭒𖭓𖭔𖭕𖭖𖭗𖭘𖭙𝟎𝟏𝟐𝟑𝟒𝟓𝟔𝟕𝟖𝟗𝟘𝟙𝟚𝟛𝟜𝟝𝟞𝟟𝟠𝟡𝟢𝟣𝟤𝟥𝟦𝟧𝟨𝟩𝟪𝟫𝟬𝟭𝟮𝟯𝟰𝟱𝟲𝟳𝟴𝟵𝟶𝟷𝟸𝟹𝟺𝟻𝟼𝟽𝟾𝟿𞥐𞥑𞥒𞥓𞥔𞥕𞥖𞥗𞥘𞥙'"
      ]
     },
     "execution_count": 13,
     "metadata": {},
     "output_type": "execute_result"
    }
   ],
   "source": [
    "''.join(sorted(numbers))"
   ]
  },
  {
   "cell_type": "markdown",
   "metadata": {
    "slideshow": {
     "slide_type": "slide"
    }
   },
   "source": [
    "What about spaces?"
   ]
  },
  {
   "cell_type": "code",
   "execution_count": 14,
   "metadata": {
    "slideshow": {
     "slide_type": "fragment"
    }
   },
   "outputs": [
    {
     "data": {
      "text/plain": [
       "22"
      ]
     },
     "execution_count": 14,
     "metadata": {},
     "output_type": "execute_result"
    }
   ],
   "source": [
    "len(spaces)"
   ]
  },
  {
   "cell_type": "code",
   "execution_count": 15,
   "metadata": {
    "slideshow": {
     "slide_type": "fragment"
    }
   },
   "outputs": [
    {
     "data": {
      "text/plain": [
       "'\\t\\n\\r \\xa0\\u1680\\u2000\\u2001\\u2002\\u2003\\u2004\\u2005\\u2006\\u2007\\u2008\\u2009\\u200a\\u2028\\u2029\\u202f\\u205f\\u3000'"
      ]
     },
     "execution_count": 15,
     "metadata": {},
     "output_type": "execute_result"
    }
   ],
   "source": [
    "''.join(sorted(spaces))"
   ]
  },
  {
   "cell_type": "markdown",
   "metadata": {
    "slideshow": {
     "slide_type": "slide"
    }
   },
   "source": [
    "Just for reference, how many letters we have?"
   ]
  },
  {
   "cell_type": "code",
   "execution_count": 16,
   "metadata": {
    "slideshow": {
     "slide_type": "fragment"
    }
   },
   "outputs": [
    {
     "data": {
      "text/plain": [
       "118863"
      ]
     },
     "execution_count": 16,
     "metadata": {},
     "output_type": "execute_result"
    }
   ],
   "source": [
    "len(letters)"
   ]
  },
  {
   "cell_type": "markdown",
   "metadata": {
    "slideshow": {
     "slide_type": "slide"
    }
   },
   "source": [
    "Let's get back to to our word counter."
   ]
  },
  {
   "cell_type": "code",
   "execution_count": 17,
   "metadata": {
    "collapsed": true,
    "slideshow": {
     "slide_type": "fragment"
    }
   },
   "outputs": [],
   "source": [
    "from collections import Counter\n",
    "import re\n",
    "\n",
    "class WordCounterV2:\n",
    "    def __init__(self):\n",
    "        # Get all our unicode sets\n",
    "        (self.punctuation, self.letters, self.numbers, self.spaces, self.control) = calculateUnicodeSets()\n",
    "        # Translation table to remove punctuation\n",
    "        self.punctuationTranslation = ''.maketrans('', '', ''.join(self.punctuation))\n",
    "        # Translation table to remove control characters\n",
    "        self.controlTranslation = ''.maketrans('', '', ''.join(self.control))\n",
    "        # Regex to find all whitespaces\n",
    "        self.whitespacesRegex = '|'.join(map(re.escape, self.spaces))\n",
    "    \n",
    "    def CountWords( self, text ):\n",
    "        counter = Counter()\n",
    "        # Remove control characters from string\n",
    "        text = text.translate(self.controlTranslation)\n",
    "        # Split text to words by whitespaces\n",
    "        for word in re.split(self.whitespacesRegex,text,0):\n",
    "            # Remove all punctuation\n",
    "            word = word.translate(self.punctuationTranslation)\n",
    "            if len(word) == 0:\n",
    "                # Skip empty words\n",
    "                continue\n",
    "            # Creating set of letters from our word, that way it will be easier to compare with letters and numbers\n",
    "            wordSet = set(word)\n",
    "            # Words that consist only of letters count as words\n",
    "            if wordSet.issubset( self.letters ):\n",
    "                # Using casefold to get more stable case-insensetive variant\n",
    "                counter[word.casefold()] += 1\n",
    "            # Words that consist only of digits count as __number__\n",
    "            elif wordSet.issubset( self.numbers ):\n",
    "                counter['__number__'] += 1\n",
    "            # Everything else goes to __other__ bucket\n",
    "            else:\n",
    "                counter['__other__'] += 1\n",
    "        return counter"
   ]
  },
  {
   "cell_type": "code",
   "execution_count": 18,
   "metadata": {
    "slideshow": {
     "slide_type": "slide"
    }
   },
   "outputs": [
    {
     "data": {
      "text/plain": [
       "Counter({'hello': 1, 'world': 1})"
      ]
     },
     "execution_count": 18,
     "metadata": {},
     "output_type": "execute_result"
    }
   ],
   "source": [
    "wordCounter = WordCounterV2()\n",
    "wordCounter.CountWords( 'Hello, World!' )"
   ]
  },
  {
   "cell_type": "code",
   "execution_count": 19,
   "metadata": {
    "slideshow": {
     "slide_type": "fragment"
    }
   },
   "outputs": [
    {
     "data": {
      "text/plain": [
       "Counter({'__number__': 2,\n",
       "         '__other__': 1,\n",
       "         'better': 1,\n",
       "         'do': 1,\n",
       "         'for': 1,\n",
       "         'i': 1,\n",
       "         'is': 1,\n",
       "         'much': 1,\n",
       "         'need': 1,\n",
       "         'really': 1,\n",
       "         'version': 2,\n",
       "         'we': 1,\n",
       "         'wonder': 1,\n",
       "         'working': 1})"
      ]
     },
     "execution_count": 19,
     "metadata": {},
     "output_type": "execute_result"
    }
   ],
   "source": [
    "wordCounter.CountWords( 'Version 2 is working much better for i18n, i wonder do we really need version 3.' )"
   ]
  },
  {
   "cell_type": "code",
   "execution_count": 20,
   "metadata": {
    "slideshow": {
     "slide_type": "fragment"
    }
   },
   "outputs": [
    {
     "data": {
      "text/plain": [
       "Counter({'большинство': 1,\n",
       "         'который': 1,\n",
       "         'не': 1,\n",
       "         'понимает': 1,\n",
       "         'присутсвующих': 1,\n",
       "         'текст': 1})"
      ]
     },
     "execution_count": 20,
     "metadata": {},
     "output_type": "execute_result"
    }
   ],
   "source": [
    "wordCounter.CountWords( 'Текст, который не понимает большинство присутсвующих.' )"
   ]
  },
  {
   "cell_type": "markdown",
   "metadata": {
    "slideshow": {
     "slide_type": "slide"
    }
   },
   "source": [
    "Is our algorithm produces similiar result on similiar strings?"
   ]
  },
  {
   "cell_type": "code",
   "execution_count": 26,
   "metadata": {
    "collapsed": true,
    "slideshow": {
     "slide_type": "fragment"
    }
   },
   "outputs": [],
   "source": [
    "str1 = 'Tôi chỉ cần văn bản với dấu phụ'\n",
    "str2 = 'Tôi chỉ cần văn bản với dấu phụ'"
   ]
  },
  {
   "cell_type": "code",
   "execution_count": 27,
   "metadata": {
    "collapsed": true,
    "slideshow": {
     "slide_type": "fragment"
    }
   },
   "outputs": [],
   "source": [
    "count1 = wordCounter.CountWords( str1 )\n",
    "count2 = wordCounter.CountWords( str2 )"
   ]
  },
  {
   "cell_type": "code",
   "execution_count": 28,
   "metadata": {
    "slideshow": {
     "slide_type": "fragment"
    }
   },
   "outputs": [
    {
     "data": {
      "text/plain": [
       "Counter({'bản': 1,\n",
       "         'bản': 1,\n",
       "         'cần': 1,\n",
       "         'chỉ': 1,\n",
       "         'chỉ': 1,\n",
       "         'cần': 1,\n",
       "         'dấu': 1,\n",
       "         'dấu': 1,\n",
       "         'phụ': 1,\n",
       "         'phụ': 1,\n",
       "         'tôi': 1,\n",
       "         'tôi': 1,\n",
       "         'văn': 1,\n",
       "         'với': 1,\n",
       "         'văn': 1,\n",
       "         'với': 1})"
      ]
     },
     "execution_count": 28,
     "metadata": {},
     "output_type": "execute_result"
    }
   ],
   "source": [
    "count1 + count2"
   ]
  },
  {
   "cell_type": "markdown",
   "metadata": {
    "slideshow": {
     "slide_type": "slide"
    }
   },
   "source": [
    "## Text Normalization"
   ]
  },
  {
   "cell_type": "markdown",
   "metadata": {
    "slideshow": {
     "slide_type": "fragment"
    }
   },
   "source": [
    "What happened in the previous example?<br>\n",
    "There are several ways to write similiar text in Unicode."
   ]
  },
  {
   "cell_type": "code",
   "execution_count": 29,
   "metadata": {
    "slideshow": {
     "slide_type": "fragment"
    }
   },
   "outputs": [
    {
     "data": {
      "text/plain": [
       "'T,ô,i, ,c,h,ỉ, ,c,ầ,n, ,v,ă,n, ,b,ả,n, ,v,ớ,i, ,d,ấ,u, ,p,h,ụ'"
      ]
     },
     "execution_count": 29,
     "metadata": {},
     "output_type": "execute_result"
    }
   ],
   "source": [
    "','.join(list(str1))"
   ]
  },
  {
   "cell_type": "code",
   "execution_count": 30,
   "metadata": {
    "slideshow": {
     "slide_type": "fragment"
    }
   },
   "outputs": [
    {
     "data": {
      "text/plain": [
       "'T,o,̂,i, ,c,h,i,̉, ,c,a,̂,̀,n, ,v,a,̆,n, ,b,a,̉,n, ,v,o,̛,́,i, ,d,a,̂,́,u, ,p,h,u,̣'"
      ]
     },
     "execution_count": 30,
     "metadata": {},
     "output_type": "execute_result"
    }
   ],
   "source": [
    "','.join(list(str2))"
   ]
  },
  {
   "cell_type": "markdown",
   "metadata": {
    "slideshow": {
     "slide_type": "slide"
    }
   },
   "source": [
    "[http://unicode.org/reports/tr15/](http://unicode.org/reports/tr15/)<br>\n",
    "__Canonical equivalence__ is a fundamental equivalency between characters or sequences of characters which represent the same abstract character, and which when correctly displayed should always have the same visual appearance and behavior.<br>\n",
    "__Compatibility equivalence__ is a weaker type of equivalence between characters or sequences of characters which represent the same abstract character (or sequence of abstract characters), but which may have distinct visual appearances or behaviors."
   ]
  },
  {
   "cell_type": "markdown",
   "metadata": {
    "slideshow": {
     "slide_type": "fragment"
    }
   },
   "source": [
    "Four types of normalization:\n",
    "-  __NFD__: Canonical decomposition\n",
    "-  __NFC__: Canonical Decomposition, followed by Canonical Composition\n",
    "-  __NFKD__: Compatibility Decomposition\n",
    "-  __NFKC__: Compatibility Decomposition, followed by Canonical Composition"
   ]
  },
  {
   "attachments": {
    "UAX15-NormFig6.jpg": {
     "image/jpeg": "[encoded data removed]"
    }
   },
   "cell_type": "markdown",
   "metadata": {
    "slideshow": {
     "slide_type": "slide"
    }
   },
   "source": [
    "![UAX15-NormFig6.jpg](attachment:UAX15-NormFig6.jpg)"
   ]
  },
  {
   "cell_type": "markdown",
   "metadata": {
    "slideshow": {
     "slide_type": "fragment"
    }
   },
   "source": [
    "What type of normalization to use depends on your application and bussiness requirements.<br>\n",
    "We will stick to NFKD in this example."
   ]
  },
  {
   "cell_type": "code",
   "execution_count": 31,
   "metadata": {
    "collapsed": true,
    "slideshow": {
     "slide_type": "slide"
    }
   },
   "outputs": [],
   "source": [
    "import unicodedata\n",
    "\n",
    "str1Normalized = unicodedata.normalize(\"NFKD\", str1)\n",
    "str2Normalized = unicodedata.normalize(\"NFKD\", str2)"
   ]
  },
  {
   "cell_type": "code",
   "execution_count": 32,
   "metadata": {
    "slideshow": {
     "slide_type": "fragment"
    }
   },
   "outputs": [
    {
     "data": {
      "text/plain": [
       "'T,o,̂,i, ,c,h,i,̉, ,c,a,̂,̀,n, ,v,a,̆,n, ,b,a,̉,n, ,v,o,̛,́,i, ,d,a,̂,́,u, ,p,h,u,̣'"
      ]
     },
     "execution_count": 32,
     "metadata": {},
     "output_type": "execute_result"
    }
   ],
   "source": [
    "','.join(list(str1Normalized))"
   ]
  },
  {
   "cell_type": "code",
   "execution_count": 33,
   "metadata": {
    "slideshow": {
     "slide_type": "fragment"
    }
   },
   "outputs": [
    {
     "data": {
      "text/plain": [
       "'T,o,̂,i, ,c,h,i,̉, ,c,a,̂,̀,n, ,v,a,̆,n, ,b,a,̉,n, ,v,o,̛,́,i, ,d,a,̂,́,u, ,p,h,u,̣'"
      ]
     },
     "execution_count": 33,
     "metadata": {},
     "output_type": "execute_result"
    }
   ],
   "source": [
    "','.join(list(str2Normalized))"
   ]
  },
  {
   "cell_type": "code",
   "execution_count": 34,
   "metadata": {},
   "outputs": [
    {
     "data": {
      "text/plain": [
       "False"
      ]
     },
     "execution_count": 34,
     "metadata": {},
     "output_type": "execute_result"
    }
   ],
   "source": [
    "str1 == str2"
   ]
  },
  {
   "cell_type": "code",
   "execution_count": 35,
   "metadata": {},
   "outputs": [
    {
     "data": {
      "text/plain": [
       "True"
      ]
     },
     "execution_count": 35,
     "metadata": {},
     "output_type": "execute_result"
    }
   ],
   "source": [
    "str1Normalized == str2Normalized"
   ]
  },
  {
   "cell_type": "code",
   "execution_count": 37,
   "metadata": {
    "collapsed": true
   },
   "outputs": [],
   "source": [
    "from collections import Counter\n",
    "import re\n",
    "\n",
    "class WordCounterV3:\n",
    "    def __init__(self):\n",
    "        # Get all our unicode sets\n",
    "        (self.punctuation, self.letters, self.numbers, self.spaces, self.control) = calculateUnicodeSets()\n",
    "        # Translation table to remove punctuation\n",
    "        self.punctuationTranslation = ''.maketrans('', '', ''.join(self.punctuation))\n",
    "        # Translation table to remove control characters\n",
    "        self.controlTranslation = ''.maketrans('', '', ''.join(self.control))\n",
    "        # Regex to find all whitespaces\n",
    "        self.whitespacesRegex = '|'.join(map(re.escape, self.spaces))\n",
    "    \n",
    "    def CountWords( self, text ):\n",
    "        counter = Counter()\n",
    "        # Normalize text\n",
    "        text = unicodedata.normalize(\"NFKD\", text)\n",
    "        # Remove control characters from string\n",
    "        text = text.translate(self.controlTranslation)\n",
    "        # Split text to words by whitespaces\n",
    "        for word in re.split(self.whitespacesRegex,text,0):\n",
    "            # Remove all punctuation\n",
    "            word = word.translate(self.punctuationTranslation)\n",
    "            if len(word) == 0:\n",
    "                # Skip empty words\n",
    "                continue\n",
    "            # Creating set of letters from our word, that way it will be easier to compare with letters and numbers\n",
    "            wordSet = set(word)\n",
    "            # Words that consist only of letters count as words\n",
    "            if wordSet.issubset( self.letters ):\n",
    "                # Using casefold to get more stable case-insensetive variant\n",
    "                counter[word.casefold()] += 1\n",
    "            # Words that consist only of digits count as __number__\n",
    "            elif wordSet.issubset( self.numbers ):\n",
    "                counter['__number__'] += 1\n",
    "            # Everything else goes to __other__ bucket\n",
    "            else:\n",
    "                counter['__other__'] += 1\n",
    "        return counter"
   ]
  },
  {
   "cell_type": "code",
   "execution_count": 38,
   "metadata": {},
   "outputs": [
    {
     "data": {
      "text/plain": [
       "Counter({'hello': 1, 'world': 1})"
      ]
     },
     "execution_count": 38,
     "metadata": {},
     "output_type": "execute_result"
    }
   ],
   "source": [
    "wordCounter = WordCounterV3()\n",
    "wordCounter.CountWords( 'Hello, World!' )"
   ]
  },
  {
   "cell_type": "markdown",
   "metadata": {},
   "source": [
    "Let's try new version on previous example"
   ]
  },
  {
   "cell_type": "code",
   "execution_count": 39,
   "metadata": {
    "collapsed": true
   },
   "outputs": [],
   "source": [
    "count1Normalized = wordCounter.CountWords( str1 )\n",
    "count2Normalized = wordCounter.CountWords( str2 )"
   ]
  },
  {
   "cell_type": "code",
   "execution_count": 40,
   "metadata": {},
   "outputs": [
    {
     "data": {
      "text/plain": [
       "Counter({'bản': 2,\n",
       "         'cần': 2,\n",
       "         'chỉ': 2,\n",
       "         'dấu': 2,\n",
       "         'phụ': 2,\n",
       "         'tôi': 2,\n",
       "         'văn': 2,\n",
       "         'với': 2})"
      ]
     },
     "execution_count": 40,
     "metadata": {},
     "output_type": "execute_result"
    }
   ],
   "source": [
    "count1Normalized + count2Normalized"
   ]
  },
  {
   "cell_type": "markdown",
   "metadata": {},
   "source": [
    "Can we combine our new results with previous ones?"
   ]
  },
  {
   "cell_type": "code",
   "execution_count": 41,
   "metadata": {},
   "outputs": [
    {
     "data": {
      "text/plain": [
       "Counter({'bản': 3,\n",
       "         'bản': 1,\n",
       "         'cần': 3,\n",
       "         'chỉ': 3,\n",
       "         'chỉ': 1,\n",
       "         'cần': 1,\n",
       "         'dấu': 3,\n",
       "         'dấu': 1,\n",
       "         'phụ': 3,\n",
       "         'phụ': 1,\n",
       "         'tôi': 3,\n",
       "         'tôi': 1,\n",
       "         'văn': 3,\n",
       "         'với': 3,\n",
       "         'văn': 1,\n",
       "         'với': 1})"
      ]
     },
     "execution_count": 41,
     "metadata": {},
     "output_type": "execute_result"
    }
   ],
   "source": [
    "count1Normalized + count2Normalized + count1 + count2"
   ]
  },
  {
   "cell_type": "markdown",
   "metadata": {},
   "source": [
    "__If you use predefined dictionary, make sure that it was created with the same type of normalization.__<br>\n",
    "__The same goes to word embeddings, n-grams and any pre-trained text model.__"
   ]
  },
  {
   "cell_type": "markdown",
   "metadata": {},
   "source": [
    "## Deeper into NLP territory"
   ]
  },
  {
   "cell_type": "markdown",
   "metadata": {},
   "source": [
    "Is whitespace word-breaking enough for our need?"
   ]
  },
  {
   "cell_type": "markdown",
   "metadata": {},
   "source": [
    "Sometimes even in English we may want more complex solution."
   ]
  },
  {
   "cell_type": "code",
   "execution_count": 47,
   "metadata": {},
   "outputs": [
    {
     "data": {
      "text/plain": [
       "Counter({'about': 1,\n",
       "         'amusing': 1,\n",
       "         'arent': 1,\n",
       "         'boys': 1,\n",
       "         'capital': 1,\n",
       "         'chiles': 1,\n",
       "         'mr': 1,\n",
       "         'oneill': 1,\n",
       "         'stories': 1,\n",
       "         'that': 1,\n",
       "         'the': 1,\n",
       "         'thinks': 1})"
      ]
     },
     "execution_count": 47,
     "metadata": {},
     "output_type": "execute_result"
    }
   ],
   "source": [
    "wordCounter.CountWords(\"Mr. O'Neill thinks that the boys' stories about Chile's capital aren't amusing.\")"
   ]
  },
  {
   "cell_type": "code",
   "execution_count": 43,
   "metadata": {
    "collapsed": true
   },
   "outputs": [],
   "source": [
    "from nltk.tokenize import word_tokenize"
   ]
  },
  {
   "cell_type": "code",
   "execution_count": 44,
   "metadata": {},
   "outputs": [
    {
     "data": {
      "text/plain": [
       "['Mr.',\n",
       " \"O'Neill\",\n",
       " 'thinks',\n",
       " 'that',\n",
       " 'the',\n",
       " 'boys',\n",
       " \"'\",\n",
       " 'stories',\n",
       " 'about',\n",
       " 'Chile',\n",
       " \"'s\",\n",
       " 'capital',\n",
       " 'are',\n",
       " \"n't\",\n",
       " 'amusing',\n",
       " '.']"
      ]
     },
     "execution_count": 44,
     "metadata": {},
     "output_type": "execute_result"
    }
   ],
   "source": [
    "word_tokenize(\"Mr. O'Neill thinks that the boys' stories about Chile's capital aren't amusing.\",'English')"
   ]
  },
  {
   "cell_type": "code",
   "execution_count": null,
   "metadata": {
    "collapsed": true
   },
   "outputs": [],
   "source": [
    "from nltk.tokenize.toktok import ToktokTokenizer"
   ]
  },
  {
   "cell_type": "code",
   "execution_count": null,
   "metadata": {
    "collapsed": true
   },
   "outputs": [],
   "source": [
    "tokenizer = ToktokTokenizer()"
   ]
  },
  {
   "cell_type": "code",
   "execution_count": null,
   "metadata": {},
   "outputs": [],
   "source": [
    "tokenizer.tokenize('Rindfleischetikettierungsüberwachungsaufgabenübertragungsgesetz')"
   ]
  },
  {
   "cell_type": "code",
   "execution_count": null,
   "metadata": {
    "collapsed": true
   },
   "outputs": [],
   "source": [
    "import spacy\n",
    "nlp = spacy.load('de')\n",
    "\n",
    "from spacy.tokenizer import Tokenizer\n",
    "tokenizer = Tokenizer(nlp.vocab)\n",
    "\n",
    "from spacy.lemmatizer import Lemmatizer\n",
    "lemmatizer = Lemmatizer()\n",
    "\n",
    "doc = tokenizer('Rindfleischetikettierungsüberwachungsaufgabenübertragungsgesetz')"
   ]
  },
  {
   "cell_type": "code",
   "execution_count": null,
   "metadata": {},
   "outputs": [],
   "source": [
    "print([(w.text, w.pos_) for w in doc])"
   ]
  },
  {
   "cell_type": "code",
   "execution_count": null,
   "metadata": {
    "collapsed": true
   },
   "outputs": [],
   "source": []
  }
 ],
 "metadata": {
  "celltoolbar": "Slideshow",
  "kernelspec": {
   "display_name": "Python 3",
   "language": "python",
   "name": "python3"
  },
  "language_info": {
   "codemirror_mode": {
    "name": "ipython",
    "version": 3
   },
   "file_extension": ".py",
   "mimetype": "text/x-python",
   "name": "python",
   "nbconvert_exporter": "python",
   "pygments_lexer": "ipython3",
   "version": "3.6.2"
  }
 },
 "nbformat": 4,
 "nbformat_minor": 2
}
